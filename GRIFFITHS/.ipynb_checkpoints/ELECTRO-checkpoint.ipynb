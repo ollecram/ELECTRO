{
 "cells": [
  {
   "cell_type": "markdown",
   "metadata": {},
   "source": [
    "# Electrostatics"
   ]
  },
  {
   "cell_type": "markdown",
   "metadata": {},
   "source": [
    "## Problem 1\n",
    "Twelve equal charges $q$ at the corners of a regular 12-sided polygon."
   ]
  },
  {
   "cell_type": "markdown",
   "metadata": {},
   "source": [
    "### (a)\n",
    "What is the net force on a test charge $Q$ at the center?\n"
   ]
  },
  {
   "cell_type": "markdown",
   "metadata": {},
   "source": [
    "Given the *principle of superposition*, considering the 12 $q$ charges in pairs &ndash; $(n, n+6), n=1, \\cdots, 6$ &ndash; and observing that each pair produces a null net force at the center, we must conclude that the force on $Q$ is zero. This line of reasoning applies to all polygons with an **even** number of sides/corners.\n"
   ]
  },
  {
   "cell_type": "markdown",
   "metadata": {},
   "source": [
    "### (b)\n",
    "Suppose *one* of the 12 $q$'s is removed (the one at 6 o' clock). What is the force on $Q$? Explain your reasoning.\n",
    "\n",
    "Continuing the above reasoning, the removal of the 6-th $q$ charge leaves the charge at 12 o' clock *unbalanced*. Therefore there is a net force on $Q$ directed along the direction $(0, -1)$ whose intensity can be computed assuming it to be entirely due to the unbalanced charge.    \n"
   ]
  },
  {
   "cell_type": "markdown",
   "metadata": {},
   "source": [
    "### (c)\n",
    "Now, 13 equal charges $q$ are placed at the corners of a regular 13-sided polygon. What is the force on the charge $Q$ at the center?\n",
    "\n",
    "**Isotropy** of space suggests there being no *preferred* direction where the net resultant force could be directed, therefore the net effect of the $13$ $q$'s at the center of the polygon **must** be zero, as it is for even-sided polygons. Of course this argument would also apply to **even** sided polygons (we did not use symmetry heavy artillery in that case, because there was a simple alternative argument). \n",
    "\n",
    "For skeptics, the code in the following cell explicitly verifies that the sum of forces is effectively null at the center of any regular polygon with equal charges at its corners.      "
   ]
  },
  {
   "cell_type": "code",
   "execution_count": 10,
   "metadata": {},
   "outputs": [
    {
     "name": "stdout",
     "output_type": "stream",
     "text": [
      "resultant force for n = 5: (1.1102230246251565e-16, -1.1102230246251565e-16)\n",
      "resultant force for n = 6: (8.881784197001252e-16, 1.1102230246251565e-16)\n",
      "resultant force for n = 7: (1.1102230246251565e-16, 1.1102230246251565e-16)\n",
      "resultant force for n = 8: (5.551115123125783e-16, 2.220446049250313e-16)\n",
      "resultant force for n = 9: (7.771561172376096e-16, -1.1102230246251565e-16)\n",
      "resultant force for n = 10: (3.3306690738754696e-16, 0.0)\n",
      "resultant force for n = 11: (2.220446049250313e-16, -5.551115123125783e-16)\n",
      "resultant force for n = 12: (1.3322676295501878e-15, -2.220446049250313e-16)\n",
      "resultant force for n = 13: (1.6653345369377348e-15, 1.6653345369377348e-16)\n",
      "resultant force for n = 100: (-2.7755575615628914e-15, -6.702971511174383e-15)\n"
     ]
    }
   ],
   "source": [
    "# Verify that the sum of unit vectors directed from each corner\n",
    "# of a regular polygon toward its center is the null vector\n",
    "function polycentric(n)\n",
    "    angle = 2 * pi / n\n",
    "    xsum = 0.0\n",
    "    ysum = 0.0\n",
    "    for k in 0:n-1\n",
    "        x = - cos(k*angle)\n",
    "        y = - sin(k*angle)\n",
    "        xsum += x\n",
    "        ysum += y\n",
    "    end\n",
    "    println(\"resultant force for n = $n: ($xsum, $ysum)\")\n",
    "end\n",
    "\n",
    "polycentric(5)\n",
    "polycentric(6)\n",
    "polycentric(7)\n",
    "polycentric(8)\n",
    "polycentric(9)\n",
    "polycentric(10)\n",
    "polycentric(11)\n",
    "polycentric(12)\n",
    "polycentric(13)\n",
    "\n",
    "polycentric(100)"
   ]
  },
  {
   "cell_type": "markdown",
   "metadata": {},
   "source": [
    "### (d)\n",
    "Suppose *one* of the 13 $q$'s is removed. What is the force on $Q$? Explain your reasoning.\n",
    "\n",
    "The general symmetry argument made at the previous step implies that &ndash; for any selected $q$ charge &ndash; the net resultant at the polygon center of the forces exerted by the other $(n-1)$ charges is equal and opposite, thus perfectly balancing (nullyfying) its effect at that special point.\n",
    "\n",
    "Therefore, the $Q$ charge will experience a force that is identical to the one that would be exerted by a **single charge $q$** located at the same distance from the center as the removed charge, **on the opposite side**.  \n",
    "\n",
    "\n"
   ]
  },
  {
   "cell_type": "markdown",
   "metadata": {},
   "source": [
    "## Problem 2\n",
    "Find the electric field (magnitude and direction) a distance $z$ above the midpoint between equal and opposite charges ($\\pm q$) a distance $d$ apart. \n",
    "\n",
    "### Solution\n",
    "With respect to **Example 1** &ndash; where the charges were both positive, and only the field component along $\\hat{z}$ survived at the midpoint &ndash; here it is the vertical components of the field generated by the two charges that cancel each other out. Instead, the horizontal components are identical and their sum $E_x$ is\n",
    "\n",
    "$$E_x = 2 \\frac{1}{4 \\pi \\epsilon_{0}} \\frac{q}{r^2} sin \\theta$$\n",
    "\n",
    "where $r = \\sqrt{z^2 + (d/2)^2}$ and $sin \\theta = (d/2r)$, so\n",
    "\n",
    "$$\\boldsymbol{E} = \\frac{1}{4 \\pi \\epsilon_{0}} \\frac{qd}{[z^2 + (d/2)^2]^{3/2}} \\boldsymbol{\\hat{x}} $$ \n",
    "\n",
    "For $z=0$ (at the midpoint between the two $q$ charges) the field strength becomes, as expected:\n",
    "\n",
    "$$\\boldsymbol{E} = \\frac{1}{4 \\pi \\epsilon_{0}} \\frac{8q}{d^2} \\boldsymbol{\\hat{x}} $$\n",
    "\n",
    "Indeed, this is *twice* the intensity of the field generated at distance $d/2$ from a charge $q$.\n",
    "\n",
    "\n"
   ]
  },
  {
   "cell_type": "markdown",
   "metadata": {},
   "source": [
    "## Problem 3\n",
    "Find the electric field a distance $z$ above *one end* of a straight line segment of length $L$ that carries a uniform charge density $\\lambda$. Check that your formula is consistent with what you would expect for the case $z \\gg L$.\n",
    "\n",
    "### Solution\n",
    "\n",
    "The approach developed in Example 2 (field at distance $z$ above the *midpoint*) can be easily adapted to this problem, by just changing the *lower* limit of integration (from $-L$ to $0$), thus obtaining:\n",
    "\n",
    "$$ \\boldsymbol{E} = \\frac{\\lambda}{4 \\pi \\epsilon_0} \\left[ z \\boldsymbol{\\hat{z}} \\left( \\frac{x}{z^2 \\sqrt{z^2 + x^2}}\\right)     \\middle \\rvert_{0}^{L} \\: + \\boldsymbol{\\hat{x}} \\left( \\frac{1}{\\sqrt{z^2 + x^2}}\\right) \\middle \\rvert_{0}^{L} \\right] $$\n",
    "\n",
    "Therefore \n",
    "\n",
    "$$ E_z = \\frac{1}{4 \\pi \\epsilon_0} \\frac{\\lambda L}{z \\sqrt{z^2 + L^2 }}$$\n",
    "\n",
    "$$ E_x = \\frac{\\lambda}{4 \\pi \\epsilon_0} \\cdot \\left( \\frac{1}{\\sqrt{z^2 + L^2}} - \\frac{1}{z}  \\right)$$\n",
    "\n",
    "\n",
    "In the limit of $z \\gg L$ \n",
    "\n",
    "$$ \\lim\\limits_{z \\gg L} E_z =  \\frac{1}{4 \\pi \\epsilon_0} \\cdot \\frac{\\lambda L}{z^2} = \\frac{1}{4 \\pi \\epsilon_0} \\cdot \\frac{q}{z^2}$$\n",
    "\n",
    "\n",
    "$$ \\lim\\limits_{z \\gg L} E_x =  0$$\n"
   ]
  },
  {
   "cell_type": "markdown",
   "metadata": {},
   "source": [
    "## Problem 4\n",
    "Find the electric field a distance $z$ above the center of a square loop (side $a$) carrying a uniform line charge density $\\lambda$. Hint: Use the result of Ex. 2.\n",
    "\n",
    "### Solution\n",
    "We use the *principle of superposition* together with a generalization of the result obtained in Example 2, namely on account of the fact that the point where the test charge $Q$ is located above the center of the square loop, hence not exactly *above* the midpoint of each side of the loop. Therefore we need to include the $a/2$ distance between the midpoint of each side and the loop center. \n",
    "\n",
    "By symmetry the field components parallel to the square loop plane must be null (indeed, components of the field along the $\\hat{x}$ or along the $\\hat{y}$ axis generated by charge on two opposite sides of the loop do cancel each other out at the test point).\n",
    "\n",
    "$$ E_z = \\frac{1}{4 \\pi \\epsilon_0} \\frac{4 \\lambda L}{z \\sqrt{z^2 + L^2 + a^{2}/4} }$$\n"
   ]
  },
  {
   "cell_type": "markdown",
   "metadata": {},
   "source": [
    "## Problem 5\n",
    "Find the electric field a distance $z$ above the center of a *circular* loop of radius $R$ carrying a uniform line charge density $\\lambda$. \n",
    "\n",
    "### Solution\n",
    "By symmetry the field components parallel to the circular loop plane must be null at the test point $P$.\n",
    "therefore we only need to caclulate the field component along the $\\hat{z}$ axis.\n",
    "\n",
    "By assuming the circular loop center and the test point $P$ to be on the $\\hat{z}$ axis we have\n",
    "\n",
    "$$ E_z = \\frac{1}{4 \\pi \\epsilon_0} \\cdot \\int_{0}^{2 \\pi} \\frac{\\lambda R cos \\theta} {(R^2 + z^2)} d \\phi$$\n",
    "\n",
    "where $\\phi$ is the integration variable and $\\theta$ is the angle formed with the $\\hat{z}$ axis by lines joining points on the circle with the point $P$. \n",
    "\n",
    "The angle $\\theta$ is fully determined when $z$ is given:\n",
    "\n",
    "$$cos \\theta = z / \\sqrt{R^2 + z^2}$$\n",
    "\n",
    "In fact, none of the terms under the integral symbol depends on $\\phi$, so we leave there only terms that sum up to the total charge $Q = 2 \\pi R \\lambda$ distributed along the circle:  \n",
    "\n",
    "$$ E_z = \\frac{1}{4 \\pi \\epsilon_0} \\cdot  \\frac{z} {\\left( R^2 + z^2 \\right)^{3/2}} \\int_{0}^{2 \\pi} \\lambda R d\\phi \n",
    "= \\frac{1}{4 \\pi \\epsilon_0} \\cdot  \\frac{z Q} {\\left( R^2 + z^2 \\right)^{3/2}}$$\n",
    "\n",
    "#### Limit of large z\n",
    "In the limit of $z \\gg R$ \n",
    "\n",
    "$$ \\lim\\limits_{z \\gg R} E_z =  \\frac{1}{4 \\pi \\epsilon_0} \\cdot \\frac{Q}{z^2}$$ \n",
    "\n",
    "#### Limit of large R\n",
    "What happens if the line charge density $\\lambda$ is kept constant and $R \\gg z$?  By sustituting $Q$ with $2 \\pi \\lambda R$ we see that \n",
    "\n",
    "$$ \\lim\\limits_{R \\gg z} E_z = \\lim\\limits_{R \\gg z} \\frac{1}{4 \\pi \\epsilon_0} \\cdot  \\frac{z 2 \\pi \\lambda R} {\\left( R^2 + z^2 \\right)^{3/2}} = \\frac{1}{4 \\pi \\epsilon_0} \\cdot  \\frac{z 2 \\pi \\lambda} {R^2}$$ \n",
    "\n",
    "So, the vertical component of the field above the center of the loop grows linearly with $z$, provided $z$ remain much smaller than $R$. "
   ]
  },
  {
   "cell_type": "markdown",
   "metadata": {},
   "source": [
    "## Problem 6\n",
    "Find the electric field a distance $z$ above the center of a flat *circular* disk of radius $R$ carrying a uniform surface charge density $\\sigma$. What does your formula give in the limit $R \\to \\infty$? Aso check the case $z \\gg R$. \n",
    "\n",
    "### Solution\n",
    "By symmetry the field components parallel to the circular disk plane must be null at the test point $P$.\n",
    "\n",
    "By assuming the circular disk center and the test point $P$ to be on the $\\hat{z}$ axis we have\n",
    "\n",
    "$$ E_z = \\frac{1}{4 \\pi \\epsilon_0} \\cdot \\int_{0}^{2 \\pi} d \\phi \\int_{0}^{R} dr \\frac{\\sigma r cos \\theta} {(r^2 + z^2)} $$\n",
    "\n",
    "where $\\phi$ defines a $2 \\pi$ rotation around the $\\hat{z}$ axis, while $\\theta$ is the angle formed with the $\\hat{z}$ axis by lines joining points on the disk with the point $P$. \n",
    "\n",
    "The angle $\\theta$ is fully determined when both $z$ and $r$ are given:\n",
    "\n",
    "$$cos \\theta = z / \\sqrt{r^2 + z^2}$$\n",
    "\n",
    "None of the terms under the integral symbol depends on $\\phi$, so we substitute the first integral with the constant factor $2 \\pi$ obtaining:\n",
    "\n",
    "$$ E_z = \\frac{1}{4 \\pi \\epsilon_0} \\cdot \\int_{0}^{R} \\frac{cos \\theta} {(r^2 + z^2)} \\cdot \\sigma 2 \\pi r dr = \\frac{1}{4 \\pi \\epsilon_0} \\cdot \\int_{0}^{R} \\frac{z} {(r^2 + z^2)^{3/2}} \\cdot \\sigma 2 \\pi r dr = \\frac{2 \\pi \\sigma  z}{4 \\pi \\epsilon_0} \\cdot \\int_{0}^{R} \\frac{r dr} {(r^2 + z^2)^{3/2}}$$\n",
    "\n",
    "The primitive of the last integral is $ -1/\\sqrt{r^2+z^2}$ (Dwight 201.03), therefore\n",
    "\n",
    "$$ E_z = \\frac{\\sigma}{2 \\epsilon_0} \\cdot \\left( 1 - \\frac{z}{\\sqrt{R^2 + z^2}} \\right)$$\n",
    "\n",
    "#### Limit of large z\n",
    "In the limit of $z \\gg R$ \n",
    "\n",
    "$$ \\lim\\limits_{z \\gg R} E_z =  \\frac{\\sigma}{2 \\epsilon_0} \\cdot \\left( 1 - 1 \\right) = 0$$\n",
    "\n",
    "#### Limit of large R\n",
    "What happens if the surface charge density $\\sigma$ is kept constant and $R \\gg z$?  \n",
    "\n",
    "$$ \\lim\\limits_{R \\gg z} E_z =  \\frac{\\sigma}{2 \\epsilon_0} \\cdot \\left( 1 - 0 \\right) = \\frac{\\sigma}{2 \\epsilon_0} $$\n",
    "\n"
   ]
  },
  {
   "cell_type": "code",
   "execution_count": null,
   "metadata": {},
   "outputs": [],
   "source": []
  }
 ],
 "metadata": {
  "kernelspec": {
   "display_name": "Julia 1.4.2",
   "language": "julia",
   "name": "julia-1.4"
  },
  "language_info": {
   "file_extension": ".jl",
   "mimetype": "application/julia",
   "name": "julia",
   "version": "1.4.2"
  }
 },
 "nbformat": 4,
 "nbformat_minor": 2
}
