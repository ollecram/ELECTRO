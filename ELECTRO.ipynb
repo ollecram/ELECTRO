{
 "cells": [
  {
   "cell_type": "markdown",
   "metadata": {},
   "source": [
    "# Electrostatics"
   ]
  },
  {
   "cell_type": "markdown",
   "metadata": {},
   "source": [
    "## Problem 1\n",
    "Twelve equal charges $q$ at the corners of a regular 12-sided polygon."
   ]
  },
  {
   "cell_type": "markdown",
   "metadata": {},
   "source": [
    "### (a)\n",
    "What is the net force on a test charge $Q$ at the center?\n"
   ]
  },
  {
   "cell_type": "markdown",
   "metadata": {},
   "source": [
    "Given the *principle of superposition*, considering the 12 $q$ charges in pairs &ndash; $(n, n+6), n=1, \\cdots, 6$ &ndash; and observing that each pair produces a null net force at the center, we must conclude that the force on $Q$ is zero. This line of reasoning applies to all polygons with an **even** number of sides/corners.\n"
   ]
  },
  {
   "cell_type": "markdown",
   "metadata": {},
   "source": [
    "### (b)\n",
    "Suppose *one* of the 12 $q$'s is removed (the one at 6 o' clock). What is the force on $Q$? Explain your reasoning.\n",
    "\n",
    "Continuing the above reasoning, the removal of the 6-th $q$ charge leaves the charge at 12 o' clock *unbalanced*. Therefore there is a net force on $Q$ directed along the direction $(0, -1)$ whose intensity can be computed assuming it to be entirely due to the unbalanced charge.    \n"
   ]
  },
  {
   "cell_type": "markdown",
   "metadata": {},
   "source": [
    "### (c)\n",
    "Now, 13 equal charges $q$ are placed at the corners of a regular 13-sided polygon. What is the force on the charge $Q$ at the center?\n",
    "\n",
    "**Isotropy** of space suggests there being no *preferred* direction where the net resultant force could be directed, therefore the net effect of the $13$ $q$'s at the center of the polygon **must** be zero, as it is for even-sided polygons. Of course this argument would also apply to **even** sided polygons (we did not use symmetry heavy artillery in that case, because there was a simple alternative argument). \n",
    "\n",
    "For skeptics, the code in the following cell explicitly verifies that the sum of forces is effectively null at the center of any regular polygon with equal charges at its corners.      "
   ]
  },
  {
   "cell_type": "code",
   "execution_count": 10,
   "metadata": {},
   "outputs": [
    {
     "name": "stdout",
     "output_type": "stream",
     "text": [
      "resultant force for n = 5: (1.1102230246251565e-16, -1.1102230246251565e-16)\n",
      "resultant force for n = 6: (8.881784197001252e-16, 1.1102230246251565e-16)\n",
      "resultant force for n = 7: (1.1102230246251565e-16, 1.1102230246251565e-16)\n",
      "resultant force for n = 8: (5.551115123125783e-16, 2.220446049250313e-16)\n",
      "resultant force for n = 9: (7.771561172376096e-16, -1.1102230246251565e-16)\n",
      "resultant force for n = 10: (3.3306690738754696e-16, 0.0)\n",
      "resultant force for n = 11: (2.220446049250313e-16, -5.551115123125783e-16)\n",
      "resultant force for n = 12: (1.3322676295501878e-15, -2.220446049250313e-16)\n",
      "resultant force for n = 13: (1.6653345369377348e-15, 1.6653345369377348e-16)\n",
      "resultant force for n = 100: (-2.7755575615628914e-15, -6.702971511174383e-15)\n"
     ]
    }
   ],
   "source": [
    "# Verify that the sum of unit vectors directed from each corner\n",
    "# of a regular polygon toward its center is the null vector\n",
    "function polycentric(n)\n",
    "    angle = 2 * pi / n\n",
    "    xsum = 0.0\n",
    "    ysum = 0.0\n",
    "    for k in 0:n-1\n",
    "        x = - cos(k*angle)\n",
    "        y = - sin(k*angle)\n",
    "        xsum += x\n",
    "        ysum += y\n",
    "    end\n",
    "    println(\"resultant force for n = $n: ($xsum, $ysum)\")\n",
    "end\n",
    "\n",
    "polycentric(5)\n",
    "polycentric(6)\n",
    "polycentric(7)\n",
    "polycentric(8)\n",
    "polycentric(9)\n",
    "polycentric(10)\n",
    "polycentric(11)\n",
    "polycentric(12)\n",
    "polycentric(13)\n",
    "\n",
    "polycentric(100)"
   ]
  },
  {
   "cell_type": "markdown",
   "metadata": {},
   "source": [
    "### (d)\n",
    "Suppose *one* of the 13 $q$'s is removed. What is the force on $Q$? Explain your reasoning.\n",
    "\n",
    "The general symmetry argument made at the previous step implies that &ndash; for any selected $q$ charge &ndash; the net resultant at the polygon center of the forces exerted by the other $(n-1)$ charges is equal and opposite, thus perfectly balancing (nullyfying) its effect at that special point.\n",
    "\n",
    "Therefore, the $Q$ charge will experience a force that is identical to the one that would be exerted by a **single charge $q$** located at the same distance from the center as the removed charge, **on the opposite side**.  \n",
    "\n",
    "\n"
   ]
  },
  {
   "cell_type": "markdown",
   "metadata": {},
   "source": [
    "## Problem 2\n",
    "Find the electric field (magnitude and direction) a distance $z$ above the midpoint between equal and opposite charges ($\\pm q$) a distance $d$ apart. \n",
    "\n",
    "### Solution\n",
    "With respect to **Example 1** &ndash; where the charges were both positive, and only the field component along $\\hat{z}$ survived at the midpoint &ndash; here it is the vertical components of the field generated by the two charges that cancel each other out. Instead, the horizontal components are identical and their sum $E_x$ is\n",
    "\n",
    "$$E_x = 2 \\frac{1}{4 \\pi \\epsilon_{0}} \\frac{q}{r^2} sin \\theta$$\n",
    "\n",
    "where $r = \\sqrt{z^2 + (d/2)^2}$ and $sin \\theta = (d/2r)$, so\n",
    "\n",
    "$$\\boldsymbol{E} = \\frac{1}{4 \\pi \\epsilon_{0}} \\frac{qd}{[z^2 + (d/2)^2]^{3/2}} \\boldsymbol{\\hat{x}} $$ \n",
    "\n"
   ]
  },
  {
   "cell_type": "code",
   "execution_count": null,
   "metadata": {},
   "outputs": [],
   "source": []
  }
 ],
 "metadata": {
  "kernelspec": {
   "display_name": "Julia 1.1.0",
   "language": "julia",
   "name": "julia-1.1"
  },
  "language_info": {
   "file_extension": ".jl",
   "mimetype": "application/julia",
   "name": "julia",
   "version": "1.1.0"
  }
 },
 "nbformat": 4,
 "nbformat_minor": 2
}
